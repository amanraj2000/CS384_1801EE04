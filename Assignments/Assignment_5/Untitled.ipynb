{
 "cells": [
  {
   "cell_type": "code",
   "execution_count": 5,
   "metadata": {},
   "outputs": [
    {
     "ename": "IndentationError",
     "evalue": "expected an indented block (<ipython-input-5-93dcb17ed2a8>, line 10)",
     "output_type": "error",
     "traceback": [
      "\u001b[1;36m  File \u001b[1;32m\"<ipython-input-5-93dcb17ed2a8>\"\u001b[1;36m, line \u001b[1;32m10\u001b[0m\n\u001b[1;33m    def rename_Game_of_Thrones(folder_name):\u001b[0m\n\u001b[1;37m      ^\u001b[0m\n\u001b[1;31mIndentationError\u001b[0m\u001b[1;31m:\u001b[0m expected an indented block\n"
     ]
    }
   ],
   "source": [
    "import csv\n",
    "import os\n",
    "import re\n",
    "import pandas\n",
    "\n",
    "\n",
    "def rename_FIR(folder_name):\n",
    "    # rename Logic \n",
    "\n",
    "    \n",
    "def rename_Game_of_Thrones(folder_name):\n",
    "    # rename Logic \n",
    "    \n",
    "\n",
    "def rename_Sherlock(folder_name):\n",
    "    # rename Logic \n",
    "    \n",
    "\n",
    "def rename_Suits(folder_name):\n",
    "    # rename Logic \n",
    "    \n",
    "\n",
    "def rename_How_I_Met_Your_Mother(folder_name):\n",
    "    # rename Logic \n",
    "\n",
    "series_name = input(\"Web Series : \").lower()\n",
    "print(series_name)\n",
    "   "
   ]
  },
  {
   "cell_type": "code",
   "execution_count": 6,
   "metadata": {},
   "outputs": [
    {
     "ename": "IndentationError",
     "evalue": "expected an indented block (<ipython-input-6-568c14c54a53>, line 5)",
     "output_type": "error",
     "traceback": [
      "\u001b[1;36m  File \u001b[1;32m\"<ipython-input-6-568c14c54a53>\"\u001b[1;36m, line \u001b[1;32m5\u001b[0m\n\u001b[1;33m    def rename_Game_of_Thrones(folder_name):\u001b[0m\n\u001b[1;37m      ^\u001b[0m\n\u001b[1;31mIndentationError\u001b[0m\u001b[1;31m:\u001b[0m expected an indented block\n"
     ]
    }
   ],
   "source": [
    "def rename_FIR(folder_name):\n",
    "    # rename Logic \n",
    "    \n",
    "\n",
    "def rename_Game_of_Thrones(folder_name):\n",
    "    # rename Logic \n",
    "    \n",
    "\n",
    "def rename_Sherlock(folder_name):\n",
    "    # rename Logic \n",
    "    \n",
    "\n",
    "def rename_Suits(folder_name):\n",
    "    # rename Logic \n",
    "    \n",
    "\n",
    "def rename_How_I_Met_Your_Mother(folder_name):\n",
    "    # rename Logic "
   ]
  },
  {
   "cell_type": "code",
   "execution_count": 7,
   "metadata": {},
   "outputs": [
    {
     "ename": "IndentationError",
     "evalue": "expected an indented block (<ipython-input-7-35198010ac91>, line 7)",
     "output_type": "error",
     "traceback": [
      "\u001b[1;36m  File \u001b[1;32m\"<ipython-input-7-35198010ac91>\"\u001b[1;36m, line \u001b[1;32m7\u001b[0m\n\u001b[1;33m    def rename_Game_of_Thrones(folder_name):\u001b[0m\n\u001b[1;37m      ^\u001b[0m\n\u001b[1;31mIndentationError\u001b[0m\u001b[1;31m:\u001b[0m expected an indented block\n"
     ]
    }
   ],
   "source": [
    "import pandas\n",
    "import re\n",
    "\n",
    "def rename_FIR(folder_name):\n",
    "    # Logic\n",
    "\n",
    "def rename_Game_of_Thrones(folder_name):\n",
    "    #Logic\n",
    "    \n",
    "def rename_Sherlock(folder_name):\n",
    "    #Logic\n",
    "\n",
    "def rename_How_I_Met_Your_Mother(folder_name):\n",
    "    #Logic"
   ]
  },
  {
   "cell_type": "code",
   "execution_count": 8,
   "metadata": {},
   "outputs": [
    {
     "ename": "SyntaxError",
     "evalue": "unexpected EOF while parsing (<ipython-input-8-fd9acb959d94>, line 3)",
     "output_type": "error",
     "traceback": [
      "\u001b[1;36m  File \u001b[1;32m\"<ipython-input-8-fd9acb959d94>\"\u001b[1;36m, line \u001b[1;32m3\u001b[0m\n\u001b[1;33m    def rename_fir(fgh):\u001b[0m\n\u001b[1;37m                        ^\u001b[0m\n\u001b[1;31mSyntaxError\u001b[0m\u001b[1;31m:\u001b[0m unexpected EOF while parsing\n"
     ]
    }
   ],
   "source": [
    "import pandas\n",
    "\n",
    "def rename_fir(fgh):\n"
   ]
  },
  {
   "cell_type": "code",
   "execution_count": 9,
   "metadata": {},
   "outputs": [
    {
     "ename": "SyntaxError",
     "evalue": "unexpected EOF while parsing (<ipython-input-9-b853b8fdfec8>, line 4)",
     "output_type": "error",
     "traceback": [
      "\u001b[1;36m  File \u001b[1;32m\"<ipython-input-9-b853b8fdfec8>\"\u001b[1;36m, line \u001b[1;32m4\u001b[0m\n\u001b[1;33m    #Logic\u001b[0m\n\u001b[1;37m          ^\u001b[0m\n\u001b[1;31mSyntaxError\u001b[0m\u001b[1;31m:\u001b[0m unexpected EOF while parsing\n"
     ]
    }
   ],
   "source": [
    "import pandas\n",
    "\n",
    "def rename_fir(fgh):\n",
    "    #Logic"
   ]
  },
  {
   "cell_type": "code",
   "execution_count": 10,
   "metadata": {},
   "outputs": [
    {
     "ename": "SyntaxError",
     "evalue": "unexpected EOF while parsing (<ipython-input-10-0fb3dd2a3423>, line 5)",
     "output_type": "error",
     "traceback": [
      "\u001b[1;36m  File \u001b[1;32m\"<ipython-input-10-0fb3dd2a3423>\"\u001b[1;36m, line \u001b[1;32m5\u001b[0m\n\u001b[1;33m    \u001b[0m\n\u001b[1;37m    ^\u001b[0m\n\u001b[1;31mSyntaxError\u001b[0m\u001b[1;31m:\u001b[0m unexpected EOF while parsing\n"
     ]
    }
   ],
   "source": [
    "import pandas\n",
    "\n",
    "def rename_fir(fgh):\n",
    "    #Logic\n",
    "    "
   ]
  },
  {
   "cell_type": "code",
   "execution_count": 17,
   "metadata": {},
   "outputs": [
    {
     "ename": "IndentationError",
     "evalue": "expected an indented block (<ipython-input-17-0f920ce2065b>, line 6)",
     "output_type": "error",
     "traceback": [
      "\u001b[1;36m  File \u001b[1;32m\"<ipython-input-17-0f920ce2065b>\"\u001b[1;36m, line \u001b[1;32m6\u001b[0m\n\u001b[1;33m    except:\u001b[0m\n\u001b[1;37m           ^\u001b[0m\n\u001b[1;31mIndentationError\u001b[0m\u001b[1;31m:\u001b[0m expected an indented block\n"
     ]
    }
   ],
   "source": [
    "import pandas\n",
    "\n",
    "try: \n",
    "    def rename_fir(fgh):\n",
    "      #Logic\n",
    "except:\n",
    "    print(\"Error!\")\n"
   ]
  },
  {
   "cell_type": "code",
   "execution_count": 14,
   "metadata": {},
   "outputs": [
    {
     "name": "stdout",
     "output_type": "stream",
     "text": [
      "410\n"
     ]
    }
   ],
   "source": [
    "import pandas\n",
    "a=10\n",
    "b=20\n",
    "c=a+b**2\n",
    "print(c)"
   ]
  },
  {
   "cell_type": "code",
   "execution_count": 18,
   "metadata": {},
   "outputs": [
    {
     "name": "stdout",
     "output_type": "stream",
     "text": [
      "11\n"
     ]
    }
   ],
   "source": [
    "import pandas as pd\n",
    "\n",
    "a=5\n",
    "b=6\n",
    "c=a+b\n",
    "print(c)"
   ]
  },
  {
   "cell_type": "code",
   "execution_count": null,
   "metadata": {},
   "outputs": [],
   "source": []
  }
 ],
 "metadata": {
  "kernelspec": {
   "display_name": "Python 3",
   "language": "python",
   "name": "python3"
  },
  "language_info": {
   "codemirror_mode": {
    "name": "ipython",
    "version": 3
   },
   "file_extension": ".py",
   "mimetype": "text/x-python",
   "name": "python",
   "nbconvert_exporter": "python",
   "pygments_lexer": "ipython3",
   "version": "3.7.6"
  }
 },
 "nbformat": 4,
 "nbformat_minor": 4
}
